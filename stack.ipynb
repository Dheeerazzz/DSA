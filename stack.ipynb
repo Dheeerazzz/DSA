{
 "cells": [
  {
   "cell_type": "code",
   "execution_count": 9,
   "metadata": {},
   "outputs": [
    {
     "data": {
      "text/plain": [
       "10"
      ]
     },
     "execution_count": 9,
     "metadata": {},
     "output_type": "execute_result"
    }
   ],
   "source": [
    "class Node:\n",
    "    def __init__(self,val):\n",
    "        self.val=val \n",
    "        self.next=None\n",
    "    \n",
    "class stack:\n",
    "    def __init__(self,val):\n",
    "        new_node=Node(val)\n",
    "        self.top=new_node\n",
    "        self.height=1\n",
    "        \n",
    "        \n",
    "    def print_stack(self):\n",
    "        temp=self.top\n",
    "        while temp:\n",
    "            print(temp.val)\n",
    "            temp=temp.next\n",
    "        \n",
    "    def push(self,val):\n",
    "        new_node=Node(val)\n",
    "        if self.height==0:\n",
    "            self.top=new_node\n",
    "            self.height+=1\n",
    "        else:\n",
    "            new_node.next=self.top \n",
    "            self.top=new_node \n",
    "            self.height+=1\n",
    "\n",
    "    def pop(self):\n",
    "        if self.height==0:\n",
    "            return None\n",
    "        temp=self.top\n",
    "        self.top=temp.next\n",
    "        temp.next=None \n",
    "        self.height-=1\n",
    "        return temp.val\n",
    "\n",
    "\n",
    "\n",
    "\n",
    "stacker = stack(5)\n",
    "stacker.push(10)\n",
    "stacker.pop()\n",
    "#stacker.print_stack()"
   ]
  },
  {
   "cell_type": "code",
   "execution_count": null,
   "metadata": {},
   "outputs": [],
   "source": []
  },
  {
   "cell_type": "code",
   "execution_count": null,
   "metadata": {},
   "outputs": [],
   "source": []
  }
 ],
 "metadata": {
  "kernelspec": {
   "display_name": "Python 3",
   "language": "python",
   "name": "python3"
  },
  "language_info": {
   "codemirror_mode": {
    "name": "ipython",
    "version": 3
   },
   "file_extension": ".py",
   "mimetype": "text/x-python",
   "name": "python",
   "nbconvert_exporter": "python",
   "pygments_lexer": "ipython3",
   "version": "3.10.10"
  },
  "orig_nbformat": 4
 },
 "nbformat": 4,
 "nbformat_minor": 2
}
