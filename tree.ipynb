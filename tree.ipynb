{
 "cells": [
  {
   "cell_type": "code",
   "execution_count": 13,
   "metadata": {},
   "outputs": [
    {
     "name": "stdout",
     "output_type": "stream",
     "text": [
      "5\n",
      "1\n",
      "10\n"
     ]
    },
    {
     "data": {
      "text/plain": [
       "False"
      ]
     },
     "execution_count": 13,
     "metadata": {},
     "output_type": "execute_result"
    }
   ],
   "source": [
    "class Node:\n",
    "    def __init__(self,val):\n",
    "        self.val=val \n",
    "        self.left=None \n",
    "        self.right=None \n",
    "    \n",
    "class tree:\n",
    "    def __init__(self,val):\n",
    "        self.root=Node(val)\n",
    "\n",
    "    def insert(self,val):\n",
    "        new_node=Node(val)\n",
    "        if self.root is None:\n",
    "            self.root=new_node\n",
    "            return True\n",
    "        temp=self.root\n",
    "        while(True):\n",
    "            if new_node.val==temp.val:\n",
    "                return False\n",
    "            if new_node.val<temp.val:\n",
    "                if temp.left is None:\n",
    "                    temp.left=new_node\n",
    "                    return True \n",
    "                temp=temp.left \n",
    "\n",
    "            else:\n",
    "                if temp.right is None:\n",
    "                    temp.right=new_node\n",
    "                    return True\n",
    "                temp=temp.right\n",
    "\n",
    "    def contains(self,key):\n",
    "        if key==self.root:\n",
    "                return True \n",
    "        temp=self.root\n",
    "        while(temp is not None):\n",
    "            if temp.val==key:\n",
    "                return True \n",
    "            elif temp.val<key:\n",
    "                    temp=temp.right\n",
    "            else:\n",
    "                    temp=temp.left\n",
    "        return False\n",
    "\n",
    "\n",
    "\n",
    "\n",
    "\n",
    "\n",
    "groot=tree(5)\n",
    "groot.insert(10)\n",
    "groot.insert(10)\n",
    "groot.insert(1)\n",
    "print(groot.root.val)\n",
    "print(groot.root.left.val)\n",
    "print(groot.root.right.val)\n",
    "\n",
    "\n",
    "groot.contains(10)\n",
    "groot.contains(25)"
   ]
  },
  {
   "cell_type": "code",
   "execution_count": null,
   "metadata": {},
   "outputs": [],
   "source": []
  }
 ],
 "metadata": {
  "kernelspec": {
   "display_name": "Python 3",
   "language": "python",
   "name": "python3"
  },
  "language_info": {
   "codemirror_mode": {
    "name": "ipython",
    "version": 3
   },
   "file_extension": ".py",
   "mimetype": "text/x-python",
   "name": "python",
   "nbconvert_exporter": "python",
   "pygments_lexer": "ipython3",
   "version": "3.10.10"
  },
  "orig_nbformat": 4
 },
 "nbformat": 4,
 "nbformat_minor": 2
}
