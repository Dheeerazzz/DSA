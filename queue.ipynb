{
 "cells": [
  {
   "cell_type": "code",
   "execution_count": 9,
   "metadata": {},
   "outputs": [
    {
     "name": "stdout",
     "output_type": "stream",
     "text": [
      "5\n",
      "10\n",
      "20\n"
     ]
    }
   ],
   "source": [
    "class Node:\n",
    "    def __init__(self,val):\n",
    "        self.val=val \n",
    "        self.next=None \n",
    "    \n",
    "class queue:\n",
    "    def __init__(self,val):\n",
    "        new_node=Node(val)\n",
    "        self.first=new_node\n",
    "        self.last=new_node\n",
    "        self.height=1\n",
    "        \n",
    "        \n",
    "    def print_queue(self):\n",
    "        temp=self.first\n",
    "        while temp:\n",
    "            print(temp.val)\n",
    "            temp=temp.next\n",
    "    \n",
    "    def enqueue(self,val):\n",
    "        new_node=Node(val)\n",
    "        if self.height==0:\n",
    "            self.first=new_node\n",
    "            self.last=new_node\n",
    "            self.height+=1\n",
    "        else:\n",
    "            self.last.next=new_node\n",
    "            self.last=new_node\n",
    "            self.height+=1\n",
    "\n",
    "\n",
    "queuer=queue(5)\n",
    "queuer.enqueue(10)\n",
    "queuer.enqueue(20)\n",
    "queuer.print_queue()"
   ]
  },
  {
   "cell_type": "code",
   "execution_count": null,
   "metadata": {},
   "outputs": [],
   "source": []
  }
 ],
 "metadata": {
  "kernelspec": {
   "display_name": "Python 3",
   "language": "python",
   "name": "python3"
  },
  "language_info": {
   "codemirror_mode": {
    "name": "ipython",
    "version": 3
   },
   "file_extension": ".py",
   "mimetype": "text/x-python",
   "name": "python",
   "nbconvert_exporter": "python",
   "pygments_lexer": "ipython3",
   "version": "3.10.10"
  },
  "orig_nbformat": 4
 },
 "nbformat": 4,
 "nbformat_minor": 2
}
